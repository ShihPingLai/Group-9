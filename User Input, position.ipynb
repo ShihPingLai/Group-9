{
 "cells": [
  {
   "cell_type": "code",
   "execution_count": 1,
   "metadata": {},
   "outputs": [
    {
     "name": "stdout",
     "output_type": "stream",
     "text": [
      "[[ 0.  0.  0.]\n",
      " [ 0.  0.  0.]\n",
      " [ 0.  0.  0.]]\n",
      "enter:0\n",
      "enter:1\n",
      "enter:2\n",
      "enter:3\n",
      "enter:4\n",
      "enter:5\n",
      "enter:6\n",
      "enter:7\n",
      "enter:8\n",
      "[[ 0.  1.  2.]\n",
      " [ 3.  4.  5.]\n",
      " [ 6.  7.  8.]]\n"
     ]
    }
   ],
   "source": [
    "import numpy as np\n",
    "\n",
    "n = 3 \n",
    "position = np.zeros([n, n]) # ([row, col])\n",
    "print position\n",
    "\n",
    "for i in range(0,n):\n",
    "    for j in range(0,n):\n",
    "       arr[i][j]= input(\"enter:\")\n",
    "print position\n",
    "\n",
    "\"\"\"如附檔，只要改成是裡面的n，就可以做成一個n*n的[類似矩陣的東西，\n",
    "因為python沒有矩陣qaq]，然後依序輸入你要輸入的[電荷大小]，就可以\n",
    "以較圖像化的方式，呈現電荷在平面上的分布；也可以以輸入index[i][j]\n",
    "的方式指定某電荷的位置。到時候要做電場分布，可考慮以此作為使用者輸\n",
    "入。(若覺得有更方便或更好的想法請跟我說~~)\"\"\""
   ]
  },
  {
   "cell_type": "code",
   "execution_count": null,
   "metadata": {
    "collapsed": true
   },
   "outputs": [],
   "source": []
  }
 ],
 "metadata": {
  "kernelspec": {
   "display_name": "Python 2",
   "language": "python",
   "name": "python2"
  },
  "language_info": {
   "codemirror_mode": {
    "name": "ipython",
    "version": 2
   },
   "file_extension": ".py",
   "mimetype": "text/x-python",
   "name": "python",
   "nbconvert_exporter": "python",
   "pygments_lexer": "ipython2",
   "version": "2.7.14"
  }
 },
 "nbformat": 4,
 "nbformat_minor": 2
}
